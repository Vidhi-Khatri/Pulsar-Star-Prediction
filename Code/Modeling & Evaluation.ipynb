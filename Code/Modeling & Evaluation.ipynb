{
 "cells": [
  {
   "cell_type": "markdown",
   "metadata": {},
   "source": [
    "# Part 2: Modeling & Evaluation"
   ]
  },
  {
   "cell_type": "markdown",
   "metadata": {},
   "source": [
    "## Imports"
   ]
  },
  {
   "cell_type": "code",
   "execution_count": 1,
   "metadata": {},
   "outputs": [
    {
     "name": "stderr",
     "output_type": "stream",
     "text": [
      "Using TensorFlow backend.\n",
      "C:\\Users\\andre\\Anaconda3\\lib\\site-packages\\tensorflow\\python\\framework\\dtypes.py:526: FutureWarning: Passing (type, 1) or '1type' as a synonym of type is deprecated; in a future version of numpy, it will be understood as (type, (1,)) / '(1,)type'.\n",
      "  _np_qint8 = np.dtype([(\"qint8\", np.int8, 1)])\n",
      "C:\\Users\\andre\\Anaconda3\\lib\\site-packages\\tensorflow\\python\\framework\\dtypes.py:527: FutureWarning: Passing (type, 1) or '1type' as a synonym of type is deprecated; in a future version of numpy, it will be understood as (type, (1,)) / '(1,)type'.\n",
      "  _np_quint8 = np.dtype([(\"quint8\", np.uint8, 1)])\n",
      "C:\\Users\\andre\\Anaconda3\\lib\\site-packages\\tensorflow\\python\\framework\\dtypes.py:528: FutureWarning: Passing (type, 1) or '1type' as a synonym of type is deprecated; in a future version of numpy, it will be understood as (type, (1,)) / '(1,)type'.\n",
      "  _np_qint16 = np.dtype([(\"qint16\", np.int16, 1)])\n",
      "C:\\Users\\andre\\Anaconda3\\lib\\site-packages\\tensorflow\\python\\framework\\dtypes.py:529: FutureWarning: Passing (type, 1) or '1type' as a synonym of type is deprecated; in a future version of numpy, it will be understood as (type, (1,)) / '(1,)type'.\n",
      "  _np_quint16 = np.dtype([(\"quint16\", np.uint16, 1)])\n",
      "C:\\Users\\andre\\Anaconda3\\lib\\site-packages\\tensorflow\\python\\framework\\dtypes.py:530: FutureWarning: Passing (type, 1) or '1type' as a synonym of type is deprecated; in a future version of numpy, it will be understood as (type, (1,)) / '(1,)type'.\n",
      "  _np_qint32 = np.dtype([(\"qint32\", np.int32, 1)])\n",
      "C:\\Users\\andre\\Anaconda3\\lib\\site-packages\\tensorflow\\python\\framework\\dtypes.py:535: FutureWarning: Passing (type, 1) or '1type' as a synonym of type is deprecated; in a future version of numpy, it will be understood as (type, (1,)) / '(1,)type'.\n",
      "  np_resource = np.dtype([(\"resource\", np.ubyte, 1)])\n"
     ]
    },
    {
     "data": {
      "text/html": [
       "<style>.container { width:95% !important; }</style>"
      ],
      "text/plain": [
       "<IPython.core.display.HTML object>"
      ]
     },
     "metadata": {},
     "output_type": "display_data"
    }
   ],
   "source": [
    "# Standard Imports\n",
    "import pandas                as pd\n",
    "import numpy                 as np\n",
    "import matplotlib.pyplot     as plt\n",
    "import seaborn               as sns\n",
    "\n",
    "# Modeling, Evaluation, & Appearance\n",
    "from keras                   import regularizers\n",
    "from keras.models            import Sequential\n",
    "from keras.layers            import Dense\n",
    "from sklearn.model_selection import train_test_split, cross_val_score\n",
    "from sklearn.metrics         import accuracy_score, recall_score, roc_auc_score, matthews_corrcoef\n",
    "from sklearn.preprocessing   import StandardScaler\n",
    "from IPython.core.display    import display, HTML\n",
    "from IPython.display         import display_html\n",
    "\n",
    "# Custom Modules\n",
    "import graphs\n",
    "from metrics                 import binary_classification_summary, confusion_matrix_dataframe\n",
    "from metrics                 import specificity\n",
    "\n",
    "\n",
    "# Notebook settings\n",
    "display(HTML(\"<style>.container { width:95% !important; }</style>\"))\n",
    "%matplotlib inline\n",
    "\n",
    "# Setting a seed for the models\n",
    "np.random.seed(42)"
   ]
  },
  {
   "cell_type": "markdown",
   "metadata": {},
   "source": [
    "## Table Of Contents\n",
    "\n",
    "- [Reading In The Data](#Reading-In-The-Data)\n",
    "    - [Overview](#Overview)\n",
    "    \n",
    "\n",
    "- [Establishing The Baseline](#Establishing-The-Baseline)\n",
    "    \n",
    "    \n",
    "- [Preprocessing](#Preprocessing)\n",
    "    - [Feature Engineering](#Feature-Engineering)\n",
    "        - [Data Manipulation](#Data-Manipulation)\n",
    "        - [Interaction Columns](#Interaction-Columns)\n",
    "    - [Subset Definition](#Subset-Definition)\n",
    "    - [Defining X & y Variables](#Defining-X-&-y-Variables)\n",
    "    - [Train-Test Split](#Train-Test-Split)\n",
    "    - [Scaling The Data](#Scaling-The-Data)\n",
    "\n",
    "  \n",
    "- [Modeling](#Modeling)\n",
    "    - [Evaluation Functions](#Evaluation-Functions)\n",
    "    - [Neural Networks](#Neural-Networks)\n",
    "        - [Original Features](#Original-Features)\n",
    "        - [Squared Features](#Squared-Features)\n",
    "        - [Interaction Features](#Interaction-Features)\n",
    "        \n",
    "        \n",
    "- [Evaluation](#Evaluation)\n",
    "    - [Dataframes](#Dataframes)\n",
    "    - [Best Model Selection](#Best-Model-Selection)\n",
    "    - [Plots](#Plots)\n",
    "        - [Bar Chart](#Bar-Chart)\n",
    "        - [ROC Curve](#ROC-Curve)"
   ]
  },
  {
   "cell_type": "markdown",
   "metadata": {},
   "source": [
    "## Reading In The Data"
   ]
  },
  {
   "cell_type": "code",
   "execution_count": 2,
   "metadata": {},
   "outputs": [],
   "source": [
    "pulsar = pd.read_csv(\"../Data/pulsar_cleaned.csv\")"
   ]
  },
  {
   "cell_type": "markdown",
   "metadata": {},
   "source": [
    "### Overview"
   ]
  },
  {
   "cell_type": "code",
   "execution_count": 3,
   "metadata": {
    "scrolled": true
   },
   "outputs": [
    {
     "data": {
      "text/html": [
       "<div>\n",
       "<style scoped>\n",
       "    .dataframe tbody tr th:only-of-type {\n",
       "        vertical-align: middle;\n",
       "    }\n",
       "\n",
       "    .dataframe tbody tr th {\n",
       "        vertical-align: top;\n",
       "    }\n",
       "\n",
       "    .dataframe thead th {\n",
       "        text-align: right;\n",
       "    }\n",
       "</style>\n",
       "<table border=\"1\" class=\"dataframe\">\n",
       "  <thead>\n",
       "    <tr style=\"text-align: right;\">\n",
       "      <th></th>\n",
       "      <th>mean_ip</th>\n",
       "      <th>sd_ip</th>\n",
       "      <th>ex_kurt_ip</th>\n",
       "      <th>skew_ip</th>\n",
       "      <th>mean_dmsnr</th>\n",
       "      <th>sd_dmsnr</th>\n",
       "      <th>ex_kurt_dmsnr</th>\n",
       "      <th>skew_dmsnr</th>\n",
       "      <th>target_class</th>\n",
       "    </tr>\n",
       "  </thead>\n",
       "  <tbody>\n",
       "    <tr>\n",
       "      <th>0</th>\n",
       "      <td>140.562500</td>\n",
       "      <td>55.683782</td>\n",
       "      <td>-0.234571</td>\n",
       "      <td>-0.699648</td>\n",
       "      <td>3.199833</td>\n",
       "      <td>19.110426</td>\n",
       "      <td>7.975532</td>\n",
       "      <td>74.242225</td>\n",
       "      <td>0</td>\n",
       "    </tr>\n",
       "    <tr>\n",
       "      <th>1</th>\n",
       "      <td>102.507812</td>\n",
       "      <td>58.882430</td>\n",
       "      <td>0.465318</td>\n",
       "      <td>-0.515088</td>\n",
       "      <td>1.677258</td>\n",
       "      <td>14.860146</td>\n",
       "      <td>10.576487</td>\n",
       "      <td>127.393580</td>\n",
       "      <td>0</td>\n",
       "    </tr>\n",
       "    <tr>\n",
       "      <th>2</th>\n",
       "      <td>103.015625</td>\n",
       "      <td>39.341649</td>\n",
       "      <td>0.323328</td>\n",
       "      <td>1.051164</td>\n",
       "      <td>3.121237</td>\n",
       "      <td>21.744669</td>\n",
       "      <td>7.735822</td>\n",
       "      <td>63.171909</td>\n",
       "      <td>0</td>\n",
       "    </tr>\n",
       "    <tr>\n",
       "      <th>3</th>\n",
       "      <td>136.750000</td>\n",
       "      <td>57.178449</td>\n",
       "      <td>-0.068415</td>\n",
       "      <td>-0.636238</td>\n",
       "      <td>3.642977</td>\n",
       "      <td>20.959280</td>\n",
       "      <td>6.896499</td>\n",
       "      <td>53.593661</td>\n",
       "      <td>0</td>\n",
       "    </tr>\n",
       "    <tr>\n",
       "      <th>4</th>\n",
       "      <td>88.726562</td>\n",
       "      <td>40.672225</td>\n",
       "      <td>0.600866</td>\n",
       "      <td>1.123492</td>\n",
       "      <td>1.178930</td>\n",
       "      <td>11.468720</td>\n",
       "      <td>14.269573</td>\n",
       "      <td>252.567306</td>\n",
       "      <td>0</td>\n",
       "    </tr>\n",
       "  </tbody>\n",
       "</table>\n",
       "</div>"
      ],
      "text/plain": [
       "      mean_ip      sd_ip  ex_kurt_ip   skew_ip  mean_dmsnr   sd_dmsnr  \\\n",
       "0  140.562500  55.683782   -0.234571 -0.699648    3.199833  19.110426   \n",
       "1  102.507812  58.882430    0.465318 -0.515088    1.677258  14.860146   \n",
       "2  103.015625  39.341649    0.323328  1.051164    3.121237  21.744669   \n",
       "3  136.750000  57.178449   -0.068415 -0.636238    3.642977  20.959280   \n",
       "4   88.726562  40.672225    0.600866  1.123492    1.178930  11.468720   \n",
       "\n",
       "   ex_kurt_dmsnr  skew_dmsnr  target_class  \n",
       "0       7.975532   74.242225             0  \n",
       "1      10.576487  127.393580             0  \n",
       "2       7.735822   63.171909             0  \n",
       "3       6.896499   53.593661             0  \n",
       "4      14.269573  252.567306             0  "
      ]
     },
     "execution_count": 3,
     "metadata": {},
     "output_type": "execute_result"
    }
   ],
   "source": [
    "# Checking the head of the data\n",
    "\n",
    "pulsar.head()"
   ]
  },
  {
   "cell_type": "code",
   "execution_count": 4,
   "metadata": {},
   "outputs": [
    {
     "name": "stdout",
     "output_type": "stream",
     "text": [
      "The shape of the dataset is: (17898, 9)\n"
     ]
    }
   ],
   "source": [
    "# Checking the shape of the data\n",
    "\n",
    "print(f\"The shape of the dataset is: {pulsar.shape}\")"
   ]
  },
  {
   "cell_type": "code",
   "execution_count": 5,
   "metadata": {},
   "outputs": [
    {
     "data": {
      "text/plain": [
       "float64    8\n",
       "int64      1\n",
       "dtype: int64"
      ]
     },
     "execution_count": 5,
     "metadata": {},
     "output_type": "execute_result"
    }
   ],
   "source": [
    "# Summary of column data types\n",
    "\n",
    "pulsar.dtypes.value_counts()"
   ]
  },
  {
   "cell_type": "code",
   "execution_count": 6,
   "metadata": {},
   "outputs": [
    {
     "data": {
      "text/plain": [
       "mean_ip          0\n",
       "sd_ip            0\n",
       "ex_kurt_ip       0\n",
       "skew_ip          0\n",
       "mean_dmsnr       0\n",
       "sd_dmsnr         0\n",
       "ex_kurt_dmsnr    0\n",
       "skew_dmsnr       0\n",
       "target_class     0\n",
       "dtype: int64"
      ]
     },
     "execution_count": 6,
     "metadata": {},
     "output_type": "execute_result"
    }
   ],
   "source": [
    "# Checking for null values\n",
    "\n",
    "pulsar.isnull().sum()"
   ]
  },
  {
   "cell_type": "markdown",
   "metadata": {},
   "source": [
    "[Top](#Table-Of-Contents)"
   ]
  },
  {
   "cell_type": "markdown",
   "metadata": {},
   "source": [
    "## Establishing The Baseline"
   ]
  },
  {
   "cell_type": "markdown",
   "metadata": {},
   "source": [
    "We need to know what our baseline accuracy is because that will give us an accuracy score to beat: if our accuracy is less than the baseline it means that our model is worse than guessing the category of a star."
   ]
  },
  {
   "cell_type": "code",
   "execution_count": 7,
   "metadata": {},
   "outputs": [
    {
     "data": {
      "text/plain": [
       "0    90.84\n",
       "1     9.16\n",
       "Name: target_class, dtype: float64"
      ]
     },
     "execution_count": 7,
     "metadata": {},
     "output_type": "execute_result"
    }
   ],
   "source": [
    "# Calculating the percentages of each class\n",
    "\n",
    "round(pulsar[\"target_class\"].value_counts(normalize = True)*100, 2)"
   ]
  },
  {
   "cell_type": "code",
   "execution_count": 8,
   "metadata": {},
   "outputs": [
    {
     "data": {
      "image/png": "[encoded data removed]",
      "text/plain": [
       "<Figure size 720x360 with 1 Axes>"
      ]
     },
     "metadata": {},
     "output_type": "display_data"
    }
   ],
   "source": [
    "graphs.countplots(df      = pulsar,\n",
    "                  columns = [\"target_class\"],\n",
    "                  titles  = [\"Distribution Of Star Types\"],\n",
    "                  ylabel  = \"Count\",\n",
    "                  labels  = [\"Type\"],\n",
    "                  dim     = (10,5),\n",
    "                  row     = 1,\n",
    "                  col     = 1)"
   ]
  },
  {
   "cell_type": "markdown",
   "metadata": {},
   "source": [
    "`0` represents a normal star and `1` represents a pulsar which is our target.\n",
    "\n",
    "It is readily apparent that the data is _extremely_ imbalanced: this will make it difficult to model because the negative class (non-pulsar) is so much less frequent than the positive class (pulsar)."
   ]
  },
  {
   "cell_type": "markdown",
   "metadata": {},
   "source": [
    "## Preprocessing"
   ]
  },
  {
   "cell_type": "markdown",
   "metadata": {},
   "source": [
    "### Feature Engineering"
   ]
  },
  {
   "cell_type": "markdown",
   "metadata": {},
   "source": [
    "#### Data Manipulation"
   ]
  },
  {
   "cell_type": "markdown",
   "metadata": {},
   "source": [
    "While visualizing the data, we noticed that there are two columns that appeared to have a close to normal distribution.  As a result, we decided to square the values to transform them."
   ]
  },
  {
   "cell_type": "code",
   "execution_count": 9,
   "metadata": {},
   "outputs": [],
   "source": [
    "# Squaring the `mean_ip` column\n",
    "\n",
    "pulsar[\"mean_ip_squared\"] = pulsar[\"mean_ip\"].apply(lambda x: x**2)\n",
    "\n",
    "# Squaring the `sd_ip` column\n",
    "\n",
    "pulsar[\"sd_ip_squared\"]   = pulsar[\"sd_ip\"].apply(lambda x: x**2)"
   ]
  },
  {
   "cell_type": "code",
   "execution_count": 10,
   "metadata": {},
   "outputs": [
    {
     "data": {
      "text/plain": [
       "Index(['mean_ip', 'sd_ip', 'ex_kurt_ip', 'skew_ip', 'mean_dmsnr', 'sd_dmsnr',\n",
       "       'ex_kurt_dmsnr', 'skew_dmsnr', 'target_class', 'mean_ip_squared',\n",
       "       'sd_ip_squared'],\n",
       "      dtype='object')"
      ]
     },
     "execution_count": 10,
     "metadata": {},
     "output_type": "execute_result"
    }
   ],
   "source": [
    "# Making sure new columns were added\n",
    "\n",
    "pulsar.columns"
   ]
  },
  {
   "cell_type": "markdown",
   "metadata": {},
   "source": [
    "#### Interaction Columns"
   ]
  },
  {
   "cell_type": "markdown",
   "metadata": {},
   "source": [
    "Based off the heat map in the previous notebook, we noticed that there are some columns with very high correlations.  We felt that creating interaction columns, we would be emphasizing the correlation while also reducing the number of features.\n",
    "\n",
    "\n",
    "The columns are:\n",
    "\n",
    "\n",
    "| Column 1   | Column 2   | Correlation |\n",
    "|:-----------|:-----------|:-----------:|\n",
    "| mean_ip    | sd_ip      | 0.55        |\n",
    "| ex_kurt_ip | skew_ip    | 0.95        |\n",
    "| mean_dmsnr | sd_dmsnr   | 0.80        |\n",
    "| ex_kurt_ip | skew_dmsnr | 0.92        |\n",
    "\n",
    "\n",
    "We chose these columns because they have very strong correlations and only creating four does not dramatically increase the number of features in our model.  \n",
    "\n",
    "However, instead of having one set of features we decided to create three subsets:\n",
    "\n",
    "\n",
    "- original features\n",
    "\n",
    "\n",
    "- squared features\n",
    "\n",
    "\n",
    "- original features with interaction columns"
   ]
  },
  {
   "cell_type": "code",
   "execution_count": 11,
   "metadata": {},
   "outputs": [],
   "source": [
    "# Defining the `mean_ip` * `sd_ip` colum\n",
    "# Defining the `ex_kurt_ip` * `skew_ip` colum\n",
    "\n",
    "pulsar[\"mean_*_sd_ip\"]     = pulsar[\"mean_ip\"] * pulsar[\"sd_ip\"]\n",
    "pulsar[\"exkurt_*_skew_ip\"] = pulsar[\"ex_kurt_ip\"] * pulsar[\"skew_ip\"]\n",
    "\n",
    "# Defining the `mean_dmsnr` * `sd_dmsnr` colum\n",
    "# Defining the `ex_kurt_dmsnr` * `skew_dmsnr` colum\n",
    "\n",
    "pulsar[\"mean_*_sd_dmsnr\"]     = pulsar[\"mean_dmsnr\"] * pulsar[\"sd_dmsnr\"]\n",
    "pulsar[\"exkurt_*_skew_dmsnr\"] = pulsar[\"ex_kurt_dmsnr\"] * pulsar[\"skew_dmsnr\"]"
   ]
  },
  {
   "cell_type": "code",
   "execution_count": 12,
   "metadata": {},
   "outputs": [
    {
     "data": {
      "text/plain": [
       "Index(['mean_ip', 'sd_ip', 'ex_kurt_ip', 'skew_ip', 'mean_dmsnr', 'sd_dmsnr',\n",
       "       'ex_kurt_dmsnr', 'skew_dmsnr', 'target_class', 'mean_ip_squared',\n",
       "       'sd_ip_squared', 'mean_*_sd_ip', 'exkurt_*_skew_ip', 'mean_*_sd_dmsnr',\n",
       "       'exkurt_*_skew_dmsnr'],\n",
       "      dtype='object')"
      ]
     },
     "execution_count": 12,
     "metadata": {},
     "output_type": "execute_result"
    }
   ],
   "source": [
    "# Checking to make sure columns were created\n",
    "\n",
    "pulsar.columns"
   ]
  },
  {
   "cell_type": "markdown",
   "metadata": {},
   "source": [
    "[Top](#Table-Of-Contents)"
   ]
  },
  {
   "cell_type": "markdown",
   "metadata": {},
   "source": [
    "### Subset Definition"
   ]
  },
  {
   "cell_type": "markdown",
   "metadata": {},
   "source": [
    "We decided that because of the extreme imbalance of the classes a feed forward neural network is the best approach to predicting the a pulsar."
   ]
  },
  {
   "cell_type": "markdown",
   "metadata": {},
   "source": [
    "Because of the way we set up the interaction columns and manipulated the data, we decided that we are best off with three subsets: the original features, original features with squared columns, and the interaction columns.  We must define the subsets before we define our X and y variables."
   ]
  },
  {
   "cell_type": "code",
   "execution_count": 13,
   "metadata": {},
   "outputs": [],
   "source": [
    "# List of the original features\n",
    "\n",
    "original_features    = [\"mean_ip\", \"sd_ip\", \"ex_kurt_ip\", \"skew_ip\",\n",
    "                        \"mean_dmsnr\", \"sd_dmsnr\", \"ex_kurt_dmsnr\", \"skew_dmsnr\",\n",
    "                        \"target_class\"]\n",
    "\n",
    "# List of the original features with `mean_ip` and `sd_ip` squared\n",
    "\n",
    "manipulated_features = [\"mean_ip_squared\", \"sd_ip_squared\", \"ex_kurt_ip\", \"skew_ip\",\n",
    "                        \"mean_dmsnr\", \"sd_dmsnr\", \"ex_kurt_dmsnr\", \"skew_dmsnr\",\n",
    "                        \"target_class\"]\n",
    "\n",
    "# List of the interaction features\n",
    "\n",
    "interaction_features = [\"mean_ip\", \"sd_ip\", \"ex_kurt_ip\", \"skew_ip\",\n",
    "                        \"mean_dmsnr\", \"sd_dmsnr\", \"ex_kurt_dmsnr\", \n",
    "                        \"skew_dmsnr\", \"mean_*_sd_ip\", \"exkurt_*_skew_ip\", \n",
    "                        \"mean_*_sd_dmsnr\", \"exkurt_*_skew_dmsnr\", \"target_class\"]"
   ]
  },
  {
   "cell_type": "code",
   "execution_count": 14,
   "metadata": {},
   "outputs": [],
   "source": [
    "# Defining a subset with the original features\n",
    "\n",
    "pulsar_og = pulsar[original_features]\n",
    "\n",
    "# Defining a subset with the original/squared features\n",
    "\n",
    "pulsar_sq = pulsar[manipulated_features]\n",
    "\n",
    "# Defining a subset with the interaction features\n",
    "\n",
    "pulsar_if = pulsar[interaction_features]"
   ]
  },
  {
   "cell_type": "markdown",
   "metadata": {},
   "source": [
    "### Defining X & y Variables"
   ]
  },
  {
   "cell_type": "markdown",
   "metadata": {},
   "source": [
    "From this point on `X` and `y` will refer to the original features, `_sq` will refer to the dataframe with the squared features, and `_if` will refer to the dataframe with interaction features."
   ]
  },
  {
   "cell_type": "code",
   "execution_count": 15,
   "metadata": {},
   "outputs": [],
   "source": [
    "# X and y for the original\n",
    "\n",
    "X = pulsar_og.drop(\"target_class\", axis = 1)\n",
    "y = pulsar_og[\"target_class\"]\n",
    "\n",
    "# X and y for the original/squared features\n",
    "\n",
    "X_sq = pulsar_sq.drop(\"target_class\", axis = 1)\n",
    "y_sq = pulsar_sq[\"target_class\"]\n",
    "\n",
    "# X and y for the interaction features\n",
    "\n",
    "X_if = pulsar_if.drop(\"target_class\", axis = 1)\n",
    "y_if = pulsar_if[\"target_class\"]"
   ]
  },
  {
   "cell_type": "markdown",
   "metadata": {},
   "source": [
    "### Train-Test Split"
   ]
  },
  {
   "cell_type": "markdown",
   "metadata": {},
   "source": [
    "We are going to scale our data because we saw in the previous notebook that each feature is on a different scale.  Additionally, it will be easier for the neural network to find global minima if every feature is scaled.\n",
    "\n",
    "\n",
    "The purpose of the train-test split is to split up our data so that we can reserve an unseen portion of it to test our model on.  Additionally, we will be setting a random state for reproducibility and we will stratify on `y` so that the distribution of classes is preserved."
   ]
  },
  {
   "cell_type": "code",
   "execution_count": 16,
   "metadata": {},
   "outputs": [],
   "source": [
    "# Instantiating the scaler\n",
    "\n",
    "ss = StandardScaler()"
   ]
  },
  {
   "cell_type": "code",
   "execution_count": 17,
   "metadata": {},
   "outputs": [],
   "source": [
    "# Transforming here makes it easier than\n",
    "# scaling after the train-test split\n",
    "\n",
    "X_ss    = ss.fit_transform(X)\n",
    "X_sq_ss = ss.fit_transform(X_sq)\n",
    "X_if_ss = ss.fit_transform(X_if)"
   ]
  },
  {
   "cell_type": "code",
   "execution_count": 18,
   "metadata": {},
   "outputs": [],
   "source": [
    "# For the original data\n",
    "\n",
    "X_train, X_test, y_train, y_test = train_test_split(X_ss,\n",
    "                                                    y,\n",
    "                                                    random_state = 42,\n",
    "                                                    stratify     = y)\n",
    "\n",
    "# For the original data with squared features\n",
    "\n",
    "X_sq_train, X_sq_test, y_sq_train, y_sq_test = train_test_split(X_sq_ss,\n",
    "                                                                y_sq,\n",
    "                                                                random_state = 42,\n",
    "                                                                stratify     = y_sq )\n",
    "\n",
    "# For the dataframe with interaction features\n",
    "\n",
    "X_if_train, X_if_test, y_if_train, y_if_test = train_test_split(X_if_ss,\n",
    "                                                                y_if,\n",
    "                                                                random_state = 42,\n",
    "                                                                stratify     = y_if)"
   ]
  },
  {
   "cell_type": "markdown",
   "metadata": {},
   "source": [
    "[Top](#Table-Of-Contents)"
   ]
  },
  {
   "cell_type": "markdown",
   "metadata": {},
   "source": [
    "## Modeling"
   ]
  },
  {
   "cell_type": "markdown",
   "metadata": {},
   "source": [
    "### Evaluation Functions"
   ]
  },
  {
   "cell_type": "markdown",
   "metadata": {},
   "source": [
    "A confusion matrix gives us a summary of how our model classified the test data: it compares the true and predicted y values so that we can see how the model performed on each class.\n",
    "\n",
    "\n",
    "Each confusion matrix is set up the same way:\n",
    "\n",
    "|                     | Predicted Negative | Predicted Positive |\n",
    "|:--------------------|:------------------:|:------------------:|\n",
    "| **Actual Negative** | True Negative      | False Positive     |\n",
    "| **Actual Positive** | False Negative     | True Positive      |"
   ]
  },
  {
   "cell_type": "markdown",
   "metadata": {},
   "source": [
    "We will generate two scores based off the confusion matrix: specificity and sensitivity; we will go into what these scores measure in a few cells."
   ]
  },
  {
   "cell_type": "markdown",
   "metadata": {},
   "source": [
    "In addition to metric scores, we will also calculate a ROC-AUC score.  The ROC (receiver operating characteristic) shows us a binary classification model's ability to distinguish between two classes; we will plot this curve for the best model as determined by metric scores.\n",
    "\n",
    "These images from [GreyAtom](https://medium.com/greyatom/lets-learn-about-auc-roc-curve-4a94b4d88152) illustrates the AUC-ROC well:\n",
    "\n",
    "<img src = \"../Images/ROC_AUC 0.8 0.9.png\" alt = \"high auc_roc scores\" height = \"350\" width = \"350\">\n",
    "\n",
    "<img src = \"../Images/ROC_AUC 0.5 0.7.png\" alt = \"low auc_roc scores\"  height = \"350\" width = \"350\">\n",
    "\n",
    "\n",
    "Accuracy is not the most informative score for us: it just counts how many posts were classified correctly.  Instead, we want to look at performance regarding the predicted positives (pulsars) and negatives (non-pulsars).  We will use the following scores:\n",
    "\n",
    "| Metric                              | Definition                                                       | Scale    |\n",
    "|:------------------------------------|:-----------------------------------------------------------------|:---------|\n",
    "| **Accuracy**                        | The number of correctly made predictions                         | 0 to 1   | \n",
    "| **Specificity**                     | How many negative predictions are correct                        | 0 to 1   | \n",
    "| **Sensitivity**                     | How many positive predictions are correct (also known as recall) | 0 to 1   | \n",
    "| **ROC-AUC Score**                   | A measure of the model's ability to distinguish classes          | 0.5 to 1 |\n",
    "| **Matthew Correlation Coefficient** | A measure of how correlated the results and true values are      | -1 to 1  |\n",
    "\n",
    "One of the parameters for the F1 and ROC-AUC scores is called `average` which, as the name suggests, controls how the averages are calculate.  The default is `binary`, but because our classes are extremely unbalanced we will use the value `macro` which calculates the score on each class but does _not_ apply any kind of weighting; doing this ignores the class imbalance."
   ]
  },
  {
   "cell_type": "markdown",
   "metadata": {},
   "source": [
    "[Top](#Table-Of-Contents)"
   ]
  },
  {
   "cell_type": "markdown",
   "metadata": {},
   "source": [
    "### Neural Networks"
   ]
  },
  {
   "cell_type": "markdown",
   "metadata": {},
   "source": [
    "<img src = \"../Images/neural_network.jpg\" alt = \"simple neural network\" height = \"350\" width = \"400\">\n",
    "\n",
    "\n",
    "A neural network is a modeling technique that consists of many simple but highly interconnected elements or nodes or neurons \n",
    "which are organized in layers.\n",
    "\n",
    "\n",
    "- **Input layer**: the number of features in the data; in our case, the number of columns\n",
    "\n",
    "\n",
    "- **Hidden layer(s)**: the \"middle\" features and are called hidden because they are neither the input nor output.  The hidden layer(s) are where the actual computations take place: using weights and biases they modify linear models.  The hidden layers also have activation functions which modify the output in some way; the most common activation function is ReLU (rectified linear unit) which forces the hidden layer to be positive.\n",
    "\n",
    "\n",
    "- **Output layer**: the actual result of the computation and it determines what the results look like.  In the case of regression, it is a number whereas in classification the output is a probability.\n",
    "\n",
    "\n",
    "If we are not careful, our neural networks can become _extremely_ complicated and overfit to the training data.  To combat that, we will regularize the models.\n",
    "\n",
    "\n",
    "The models will have the following structure:\n",
    "\n",
    "- A dense network\n",
    "\n",
    "- An input layer\n",
    "\n",
    "- Hidden layers\n",
    "    - ReLU activation\n",
    "\n",
    "- Single output layer\n",
    "    - Sigmoid activation\n",
    "    \n",
    "-----    \n",
    "    \n",
    "Because of how the neural networks use randomness to set the initial weights, it is possible that if the models are re-run they will yield different results."
   ]
  },
  {
   "cell_type": "markdown",
   "metadata": {},
   "source": [
    "#### Original Features"
   ]
  },
  {
   "cell_type": "code",
   "execution_count": 19,
   "metadata": {},
   "outputs": [
    {
     "name": "stdout",
     "output_type": "stream",
     "text": [
      "WARNING:tensorflow:From C:\\Users\\andre\\Anaconda3\\lib\\site-packages\\tensorflow\\python\\framework\\op_def_library.py:263: colocate_with (from tensorflow.python.framework.ops) is deprecated and will be removed in a future version.\n",
      "Instructions for updating:\n",
      "Colocations handled automatically by placer.\n"
     ]
    }
   ],
   "source": [
    "# Defining the input size\n",
    "\n",
    "input_shape = X_train.shape[1]\n",
    "\n",
    "# Instantiating the model\n",
    "\n",
    "of_model = Sequential()\n",
    "\n",
    "# Adding a primary dense layer\n",
    "# L1 regularization is not really used with NNs\n",
    "\n",
    "of_model.add(Dense(6,\n",
    "                   input_dim          = input_shape,\n",
    "                   activation         = \"relu\",\n",
    "                   kernel_regularizer = regularizers.l2(0.001)))\n",
    "\n",
    "# Adding an output layer\n",
    "# L1 regularization is not really used with NNs\n",
    "\n",
    "of_model.add(Dense(1,\n",
    "                   activation         = \"sigmoid\",\n",
    "                   kernel_regularizer = regularizers.l2(0.001)))\n",
    "\n",
    "# Compiling the model\n",
    "\n",
    "of_model.compile(loss      = \"binary_crossentropy\",\n",
    "                 optimizer = \"adam\",\n",
    "                 metrics   = [\"acc\"])"
   ]
  },
  {
   "cell_type": "code",
   "execution_count": 20,
   "metadata": {},
   "outputs": [
    {
     "name": "stdout",
     "output_type": "stream",
     "text": [
      "WARNING:tensorflow:From C:\\Users\\andre\\Anaconda3\\lib\\site-packages\\tensorflow\\python\\ops\\math_ops.py:3066: to_int32 (from tensorflow.python.ops.math_ops) is deprecated and will be removed in a future version.\n",
      "Instructions for updating:\n",
      "Use tf.cast instead.\n"
     ]
    },
    {
     "data": {
      "text/plain": [
       "<keras.callbacks.History at 0x1a863b6a6d8>"
      ]
     },
     "execution_count": 20,
     "metadata": {},
     "output_type": "execute_result"
    }
   ],
   "source": [
    "# Fitting the model\n",
    "\n",
    "of_model.fit(X_train,\n",
    "             y_train,\n",
    "             epochs     = 150,\n",
    "             batch_size = 100,\n",
    "             verbose    = 0)"
   ]
  },
  {
   "cell_type": "code",
   "execution_count": 21,
   "metadata": {},
   "outputs": [],
   "source": [
    "# Generating training predictions\n",
    "\n",
    "of_train_preds = of_model.predict_classes(X_train,\n",
    "                                          batch_size = 100,\n",
    "                                          verbose    = 0).ravel()\n",
    "\n",
    "# Generating test predictions\n",
    "\n",
    "of_test_preds  = of_model.predict_classes(X_test,\n",
    "                                          batch_size = 100,\n",
    "                                          verbose    = 0).ravel()"
   ]
  },
  {
   "cell_type": "code",
   "execution_count": 22,
   "metadata": {},
   "outputs": [
    {
     "data": {
      "text/html": [
       "<div>\n",
       "<style scoped>\n",
       "    .dataframe tbody tr th:only-of-type {\n",
       "        vertical-align: middle;\n",
       "    }\n",
       "\n",
       "    .dataframe tbody tr th {\n",
       "        vertical-align: top;\n",
       "    }\n",
       "\n",
       "    .dataframe thead th {\n",
       "        text-align: right;\n",
       "    }\n",
       "</style>\n",
       "<table border=\"1\" class=\"dataframe\">\n",
       "  <thead>\n",
       "    <tr style=\"text-align: right;\">\n",
       "      <th></th>\n",
       "      <th>Scores</th>\n",
       "    </tr>\n",
       "  </thead>\n",
       "  <tbody>\n",
       "    <tr>\n",
       "      <th>Accuracy</th>\n",
       "      <td>0.978917</td>\n",
       "    </tr>\n",
       "    <tr>\n",
       "      <th>Sensitivity</th>\n",
       "      <td>0.827502</td>\n",
       "    </tr>\n",
       "    <tr>\n",
       "      <th>Specificity</th>\n",
       "      <td>0.994177</td>\n",
       "    </tr>\n",
       "    <tr>\n",
       "      <th>Matthews Corr. Coef.</th>\n",
       "      <td>0.868295</td>\n",
       "    </tr>\n",
       "    <tr>\n",
       "      <th>AUROC</th>\n",
       "      <td>0.910840</td>\n",
       "    </tr>\n",
       "  </tbody>\n",
       "</table>\n",
       "</div>"
      ],
      "text/plain": [
       "                        Scores\n",
       "Accuracy              0.978917\n",
       "Sensitivity           0.827502\n",
       "Specificity           0.994177\n",
       "Matthews Corr. Coef.  0.868295\n",
       "AUROC                 0.910840"
      ]
     },
     "execution_count": 22,
     "metadata": {},
     "output_type": "execute_result"
    }
   ],
   "source": [
    "# Evaluating the training predictions\n",
    "\n",
    "binary_classification_summary(y_train, of_train_preds)"
   ]
  },
  {
   "cell_type": "code",
   "execution_count": 23,
   "metadata": {},
   "outputs": [
    {
     "data": {
      "text/html": [
       "<div>\n",
       "<style scoped>\n",
       "    .dataframe tbody tr th:only-of-type {\n",
       "        vertical-align: middle;\n",
       "    }\n",
       "\n",
       "    .dataframe tbody tr th {\n",
       "        vertical-align: top;\n",
       "    }\n",
       "\n",
       "    .dataframe thead th {\n",
       "        text-align: right;\n",
       "    }\n",
       "</style>\n",
       "<table border=\"1\" class=\"dataframe\">\n",
       "  <thead>\n",
       "    <tr style=\"text-align: right;\">\n",
       "      <th></th>\n",
       "      <th>Scores</th>\n",
       "    </tr>\n",
       "  </thead>\n",
       "  <tbody>\n",
       "    <tr>\n",
       "      <th>Accuracy</th>\n",
       "      <td>0.979665</td>\n",
       "    </tr>\n",
       "    <tr>\n",
       "      <th>Sensitivity</th>\n",
       "      <td>0.829268</td>\n",
       "    </tr>\n",
       "    <tr>\n",
       "      <th>Specificity</th>\n",
       "      <td>0.994834</td>\n",
       "    </tr>\n",
       "    <tr>\n",
       "      <th>Matthews Corr. Coef.</th>\n",
       "      <td>0.873007</td>\n",
       "    </tr>\n",
       "    <tr>\n",
       "      <th>AUROC</th>\n",
       "      <td>0.912051</td>\n",
       "    </tr>\n",
       "  </tbody>\n",
       "</table>\n",
       "</div>"
      ],
      "text/plain": [
       "                        Scores\n",
       "Accuracy              0.979665\n",
       "Sensitivity           0.829268\n",
       "Specificity           0.994834\n",
       "Matthews Corr. Coef.  0.873007\n",
       "AUROC                 0.912051"
      ]
     },
     "execution_count": 23,
     "metadata": {},
     "output_type": "execute_result"
    }
   ],
   "source": [
    "# Evaluating the test predictions\n",
    "\n",
    "binary_classification_summary(y_test, of_test_preds)"
   ]
  },
  {
   "cell_type": "markdown",
   "metadata": {},
   "source": [
    "We had concerns about the model being overfit, which is a very real problem with neural networks.  However, there was virtually no overfitting and the model was very slightly underfit in in most cases.  Overall, we were very pleased with our scores even though the sensitivity was comparatively low because there are so few pulsars in the data."
   ]
  },
  {
   "cell_type": "code",
   "execution_count": 24,
   "metadata": {},
   "outputs": [
    {
     "data": {
      "text/plain": [
       "0    4065\n",
       "1     410\n",
       "Name: target_class, dtype: int64"
      ]
     },
     "execution_count": 24,
     "metadata": {},
     "output_type": "execute_result"
    }
   ],
   "source": [
    "y_test.value_counts()"
   ]
  },
  {
   "cell_type": "code",
   "execution_count": 25,
   "metadata": {},
   "outputs": [
    {
     "data": {
      "text/html": [
       "<div>\n",
       "<style scoped>\n",
       "    .dataframe tbody tr th:only-of-type {\n",
       "        vertical-align: middle;\n",
       "    }\n",
       "\n",
       "    .dataframe tbody tr th {\n",
       "        vertical-align: top;\n",
       "    }\n",
       "\n",
       "    .dataframe thead th {\n",
       "        text-align: right;\n",
       "    }\n",
       "</style>\n",
       "<table border=\"1\" class=\"dataframe\">\n",
       "  <thead>\n",
       "    <tr style=\"text-align: right;\">\n",
       "      <th></th>\n",
       "      <th>Predicted Non-Pulsar</th>\n",
       "      <th>Predicted Pulsar</th>\n",
       "    </tr>\n",
       "  </thead>\n",
       "  <tbody>\n",
       "    <tr>\n",
       "      <th>Actual Non-Pulsar</th>\n",
       "      <td>4044</td>\n",
       "      <td>21</td>\n",
       "    </tr>\n",
       "    <tr>\n",
       "      <th>Actual Pulsar</th>\n",
       "      <td>70</td>\n",
       "      <td>340</td>\n",
       "    </tr>\n",
       "  </tbody>\n",
       "</table>\n",
       "</div>"
      ],
      "text/plain": [
       "                   Predicted Non-Pulsar  Predicted Pulsar\n",
       "Actual Non-Pulsar                  4044                21\n",
       "Actual Pulsar                        70               340"
      ]
     },
     "execution_count": 25,
     "metadata": {},
     "output_type": "execute_result"
    }
   ],
   "source": [
    "confusion_matrix_dataframe(y_test,\n",
    "                           of_test_preds,\n",
    "                           columns = [\"Predicted Non-Pulsar\", \"Predicted Pulsar\"],\n",
    "                           index   = [\"Actual Non-Pulsar\", \"Actual Pulsar\"])"
   ]
  },
  {
   "cell_type": "markdown",
   "metadata": {},
   "source": [
    "It is no surprise that the model did so well with the true negatives: ~91% of the data is the negative class.  The model also did well with the true positives, but more importantly the false negatives were very low: these stars are extremely significant, so it is important we have as few false negatives as possible."
   ]
  },
  {
   "cell_type": "markdown",
   "metadata": {},
   "source": [
    "#### Squared Features"
   ]
  },
  {
   "cell_type": "code",
   "execution_count": 26,
   "metadata": {},
   "outputs": [],
   "source": [
    "# Defining the input size\n",
    "\n",
    "input_shape = X_sq_train.shape[1]\n",
    "\n",
    "# Instantiating the model\n",
    "\n",
    "sq_model = Sequential()\n",
    "\n",
    "# Adding a primary dense layer\n",
    "# L1 regularization is not really used with NNs\n",
    "\n",
    "sq_model.add(Dense(6,\n",
    "                   input_dim          = input_shape,\n",
    "                   activation         = \"relu\",\n",
    "                   kernel_regularizer = regularizers.l2(0.001)))\n",
    "\n",
    "# Adding an output layer\n",
    "# L1 regularization is not really used with NNs\n",
    "\n",
    "sq_model.add(Dense(1,\n",
    "                   activation         = \"sigmoid\",\n",
    "                   kernel_regularizer = regularizers.l2(0.001)))\n",
    "\n",
    "# Compiling the model\n",
    "\n",
    "sq_model.compile(loss      = \"binary_crossentropy\",\n",
    "                 optimizer = \"adam\",\n",
    "                 metrics   = [\"acc\"])"
   ]
  },
  {
   "cell_type": "code",
   "execution_count": 27,
   "metadata": {},
   "outputs": [
    {
     "data": {
      "text/plain": [
       "<keras.callbacks.History at 0x1a863b86198>"
      ]
     },
     "execution_count": 27,
     "metadata": {},
     "output_type": "execute_result"
    }
   ],
   "source": [
    "# Fitting the model\n",
    "\n",
    "sq_model.fit(X_sq_train,\n",
    "             y_sq_train,\n",
    "             epochs     = 150,\n",
    "             batch_size = 100,\n",
    "             verbose    = 0)"
   ]
  },
  {
   "cell_type": "code",
   "execution_count": 28,
   "metadata": {},
   "outputs": [],
   "source": [
    "# Generating training predictions\n",
    "\n",
    "sq_train_preds = sq_model.predict_classes(X_sq_train,\n",
    "                                          batch_size = 100,\n",
    "                                          verbose    = 0).ravel()\n",
    "\n",
    "# Generating test predictions\n",
    "\n",
    "sq_test_preds = sq_model.predict_classes(X_sq_test,\n",
    "                                         batch_size = 100,\n",
    "                                         verbose    = 0).ravel()"
   ]
  },
  {
   "cell_type": "code",
   "execution_count": 29,
   "metadata": {},
   "outputs": [
    {
     "data": {
      "text/html": [
       "<div>\n",
       "<style scoped>\n",
       "    .dataframe tbody tr th:only-of-type {\n",
       "        vertical-align: middle;\n",
       "    }\n",
       "\n",
       "    .dataframe tbody tr th {\n",
       "        vertical-align: top;\n",
       "    }\n",
       "\n",
       "    .dataframe thead th {\n",
       "        text-align: right;\n",
       "    }\n",
       "</style>\n",
       "<table border=\"1\" class=\"dataframe\">\n",
       "  <thead>\n",
       "    <tr style=\"text-align: right;\">\n",
       "      <th></th>\n",
       "      <th>Scores</th>\n",
       "    </tr>\n",
       "  </thead>\n",
       "  <tbody>\n",
       "    <tr>\n",
       "      <th>Accuracy</th>\n",
       "      <td>0.978544</td>\n",
       "    </tr>\n",
       "    <tr>\n",
       "      <th>Sensitivity</th>\n",
       "      <td>0.827502</td>\n",
       "    </tr>\n",
       "    <tr>\n",
       "      <th>Specificity</th>\n",
       "      <td>0.993767</td>\n",
       "    </tr>\n",
       "    <tr>\n",
       "      <th>Matthews Corr. Coef.</th>\n",
       "      <td>0.866050</td>\n",
       "    </tr>\n",
       "    <tr>\n",
       "      <th>AUROC</th>\n",
       "      <td>0.910635</td>\n",
       "    </tr>\n",
       "  </tbody>\n",
       "</table>\n",
       "</div>"
      ],
      "text/plain": [
       "                        Scores\n",
       "Accuracy              0.978544\n",
       "Sensitivity           0.827502\n",
       "Specificity           0.993767\n",
       "Matthews Corr. Coef.  0.866050\n",
       "AUROC                 0.910635"
      ]
     },
     "execution_count": 29,
     "metadata": {},
     "output_type": "execute_result"
    }
   ],
   "source": [
    "# Evaluating the training predictions\n",
    "\n",
    "binary_classification_summary(y_sq_train, sq_train_preds)"
   ]
  },
  {
   "cell_type": "code",
   "execution_count": 30,
   "metadata": {},
   "outputs": [
    {
     "data": {
      "text/html": [
       "<div>\n",
       "<style scoped>\n",
       "    .dataframe tbody tr th:only-of-type {\n",
       "        vertical-align: middle;\n",
       "    }\n",
       "\n",
       "    .dataframe tbody tr th {\n",
       "        vertical-align: top;\n",
       "    }\n",
       "\n",
       "    .dataframe thead th {\n",
       "        text-align: right;\n",
       "    }\n",
       "</style>\n",
       "<table border=\"1\" class=\"dataframe\">\n",
       "  <thead>\n",
       "    <tr style=\"text-align: right;\">\n",
       "      <th></th>\n",
       "      <th>Scores</th>\n",
       "    </tr>\n",
       "  </thead>\n",
       "  <tbody>\n",
       "    <tr>\n",
       "      <th>Accuracy</th>\n",
       "      <td>0.979441</td>\n",
       "    </tr>\n",
       "    <tr>\n",
       "      <th>Sensitivity</th>\n",
       "      <td>0.831707</td>\n",
       "    </tr>\n",
       "    <tr>\n",
       "      <th>Specificity</th>\n",
       "      <td>0.994342</td>\n",
       "    </tr>\n",
       "    <tr>\n",
       "      <th>Matthews Corr. Coef.</th>\n",
       "      <td>0.871774</td>\n",
       "    </tr>\n",
       "    <tr>\n",
       "      <th>AUROC</th>\n",
       "      <td>0.913025</td>\n",
       "    </tr>\n",
       "  </tbody>\n",
       "</table>\n",
       "</div>"
      ],
      "text/plain": [
       "                        Scores\n",
       "Accuracy              0.979441\n",
       "Sensitivity           0.831707\n",
       "Specificity           0.994342\n",
       "Matthews Corr. Coef.  0.871774\n",
       "AUROC                 0.913025"
      ]
     },
     "execution_count": 30,
     "metadata": {},
     "output_type": "execute_result"
    }
   ],
   "source": [
    "# Evaluating the test predictions\n",
    "\n",
    "binary_classification_summary(y_sq_test, sq_test_preds)"
   ]
  },
  {
   "cell_type": "markdown",
   "metadata": {},
   "source": [
    "These scores are slightly higher than the metrics for the original features: squaring the two features improved the model but only slightly."
   ]
  },
  {
   "cell_type": "code",
   "execution_count": 31,
   "metadata": {},
   "outputs": [
    {
     "data": {
      "text/plain": [
       "0    4065\n",
       "1     410\n",
       "Name: target_class, dtype: int64"
      ]
     },
     "execution_count": 31,
     "metadata": {},
     "output_type": "execute_result"
    }
   ],
   "source": [
    "y_sq_test.value_counts()"
   ]
  },
  {
   "cell_type": "code",
   "execution_count": 32,
   "metadata": {},
   "outputs": [
    {
     "data": {
      "text/html": [
       "<div>\n",
       "<style scoped>\n",
       "    .dataframe tbody tr th:only-of-type {\n",
       "        vertical-align: middle;\n",
       "    }\n",
       "\n",
       "    .dataframe tbody tr th {\n",
       "        vertical-align: top;\n",
       "    }\n",
       "\n",
       "    .dataframe thead th {\n",
       "        text-align: right;\n",
       "    }\n",
       "</style>\n",
       "<table border=\"1\" class=\"dataframe\">\n",
       "  <thead>\n",
       "    <tr style=\"text-align: right;\">\n",
       "      <th></th>\n",
       "      <th>Predicted Non-Pulsar</th>\n",
       "      <th>Predicted Pulsar</th>\n",
       "    </tr>\n",
       "  </thead>\n",
       "  <tbody>\n",
       "    <tr>\n",
       "      <th>Actual Non-Pulsar</th>\n",
       "      <td>4042</td>\n",
       "      <td>23</td>\n",
       "    </tr>\n",
       "    <tr>\n",
       "      <th>Actual Pulsar</th>\n",
       "      <td>69</td>\n",
       "      <td>341</td>\n",
       "    </tr>\n",
       "  </tbody>\n",
       "</table>\n",
       "</div>"
      ],
      "text/plain": [
       "                   Predicted Non-Pulsar  Predicted Pulsar\n",
       "Actual Non-Pulsar                  4042                23\n",
       "Actual Pulsar                        69               341"
      ]
     },
     "execution_count": 32,
     "metadata": {},
     "output_type": "execute_result"
    }
   ],
   "source": [
    "confusion_matrix_dataframe(y_sq_test,\n",
    "                           sq_test_preds,\n",
    "                           columns = [\"Predicted Non-Pulsar\", \"Predicted Pulsar\"],\n",
    "                           index   = [\"Actual Non-Pulsar\", \"Actual Pulsar\"])"
   ]
  },
  {
   "cell_type": "markdown",
   "metadata": {},
   "source": [
    "This model had virtually the same matrix as the previous, but with one more true positive and 2 fewer true negatives; the number of false negatives increased which is not ideal."
   ]
  },
  {
   "cell_type": "markdown",
   "metadata": {},
   "source": [
    "#### Interaction Features"
   ]
  },
  {
   "cell_type": "code",
   "execution_count": 33,
   "metadata": {},
   "outputs": [],
   "source": [
    "# Defining the input size\n",
    "\n",
    "input_shape = X_if_train.shape[1]\n",
    "\n",
    "# Instantiating the model\n",
    "\n",
    "if_model = Sequential()\n",
    "\n",
    "# Adding a primary dense layer\n",
    "# L1 regularization is not really used with NNs\n",
    "\n",
    "if_model.add(Dense(6,\n",
    "                   input_dim          = input_shape,\n",
    "                   activation         = \"relu\",\n",
    "                   kernel_regularizer = regularizers.l2(0.001)))\n",
    "\n",
    "# Adding an output layer\n",
    "# L1 regularization is not really used with NNs\n",
    "\n",
    "if_model.add(Dense(1,\n",
    "                   activation         = \"sigmoid\",\n",
    "                   kernel_regularizer = regularizers.l2(0.001)))\n",
    "\n",
    "# Compiling the model\n",
    "\n",
    "if_model.compile(loss      = \"binary_crossentropy\",\n",
    "                 optimizer = \"adam\",\n",
    "                 metrics   = [\"acc\"])"
   ]
  },
  {
   "cell_type": "code",
   "execution_count": 34,
   "metadata": {},
   "outputs": [
    {
     "data": {
      "text/plain": [
       "<keras.callbacks.History at 0x1a86872b860>"
      ]
     },
     "execution_count": 34,
     "metadata": {},
     "output_type": "execute_result"
    }
   ],
   "source": [
    "# Fitting the model\n",
    "\n",
    "if_model.fit(X_if_train,\n",
    "             y_if_train,\n",
    "             epochs     = 150,\n",
    "             batch_size = 100,\n",
    "             verbose    = 0)"
   ]
  },
  {
   "cell_type": "code",
   "execution_count": 35,
   "metadata": {},
   "outputs": [],
   "source": [
    "# Generating training predictions\n",
    "\n",
    "if_train_preds = if_model.predict_classes(X_if_train,\n",
    "                                          batch_size = 100,\n",
    "                                          verbose    = 0).ravel()\n",
    "\n",
    "# Generating test predictions\n",
    "\n",
    "if_test_preds = if_model.predict_classes(X_if_test,\n",
    "                                         batch_size = 100,\n",
    "                                         verbose    = 0).ravel()"
   ]
  },
  {
   "cell_type": "code",
   "execution_count": 36,
   "metadata": {},
   "outputs": [
    {
     "data": {
      "text/html": [
       "<div>\n",
       "<style scoped>\n",
       "    .dataframe tbody tr th:only-of-type {\n",
       "        vertical-align: middle;\n",
       "    }\n",
       "\n",
       "    .dataframe tbody tr th {\n",
       "        vertical-align: top;\n",
       "    }\n",
       "\n",
       "    .dataframe thead th {\n",
       "        text-align: right;\n",
       "    }\n",
       "</style>\n",
       "<table border=\"1\" class=\"dataframe\">\n",
       "  <thead>\n",
       "    <tr style=\"text-align: right;\">\n",
       "      <th></th>\n",
       "      <th>Scores</th>\n",
       "    </tr>\n",
       "  </thead>\n",
       "  <tbody>\n",
       "    <tr>\n",
       "      <th>Accuracy</th>\n",
       "      <td>0.978917</td>\n",
       "    </tr>\n",
       "    <tr>\n",
       "      <th>Sensitivity</th>\n",
       "      <td>0.829943</td>\n",
       "    </tr>\n",
       "    <tr>\n",
       "      <th>Specificity</th>\n",
       "      <td>0.993931</td>\n",
       "    </tr>\n",
       "    <tr>\n",
       "      <th>Matthews Corr. Coef.</th>\n",
       "      <td>0.868435</td>\n",
       "    </tr>\n",
       "    <tr>\n",
       "      <th>AUROC</th>\n",
       "      <td>0.911937</td>\n",
       "    </tr>\n",
       "  </tbody>\n",
       "</table>\n",
       "</div>"
      ],
      "text/plain": [
       "                        Scores\n",
       "Accuracy              0.978917\n",
       "Sensitivity           0.829943\n",
       "Specificity           0.993931\n",
       "Matthews Corr. Coef.  0.868435\n",
       "AUROC                 0.911937"
      ]
     },
     "execution_count": 36,
     "metadata": {},
     "output_type": "execute_result"
    }
   ],
   "source": [
    "# Evaluating the training predictions\n",
    "\n",
    "binary_classification_summary(y_if_train, if_train_preds)"
   ]
  },
  {
   "cell_type": "code",
   "execution_count": 37,
   "metadata": {},
   "outputs": [
    {
     "data": {
      "text/html": [
       "<div>\n",
       "<style scoped>\n",
       "    .dataframe tbody tr th:only-of-type {\n",
       "        vertical-align: middle;\n",
       "    }\n",
       "\n",
       "    .dataframe tbody tr th {\n",
       "        vertical-align: top;\n",
       "    }\n",
       "\n",
       "    .dataframe thead th {\n",
       "        text-align: right;\n",
       "    }\n",
       "</style>\n",
       "<table border=\"1\" class=\"dataframe\">\n",
       "  <thead>\n",
       "    <tr style=\"text-align: right;\">\n",
       "      <th></th>\n",
       "      <th>Scores</th>\n",
       "    </tr>\n",
       "  </thead>\n",
       "  <tbody>\n",
       "    <tr>\n",
       "      <th>Accuracy</th>\n",
       "      <td>0.979888</td>\n",
       "    </tr>\n",
       "    <tr>\n",
       "      <th>Sensitivity</th>\n",
       "      <td>0.834146</td>\n",
       "    </tr>\n",
       "    <tr>\n",
       "      <th>Specificity</th>\n",
       "      <td>0.994588</td>\n",
       "    </tr>\n",
       "    <tr>\n",
       "      <th>Matthews Corr. Coef.</th>\n",
       "      <td>0.874607</td>\n",
       "    </tr>\n",
       "    <tr>\n",
       "      <th>AUROC</th>\n",
       "      <td>0.914367</td>\n",
       "    </tr>\n",
       "  </tbody>\n",
       "</table>\n",
       "</div>"
      ],
      "text/plain": [
       "                        Scores\n",
       "Accuracy              0.979888\n",
       "Sensitivity           0.834146\n",
       "Specificity           0.994588\n",
       "Matthews Corr. Coef.  0.874607\n",
       "AUROC                 0.914367"
      ]
     },
     "execution_count": 37,
     "metadata": {},
     "output_type": "execute_result"
    }
   ],
   "source": [
    "# Evaluating the test predictions\n",
    "\n",
    "binary_classification_summary(y_if_test, if_test_preds)"
   ]
  },
  {
   "cell_type": "markdown",
   "metadata": {},
   "source": [
    "This model was underfit, but the underfit is by less than 1%.  This model also has the best scores, but the increase is very small."
   ]
  },
  {
   "cell_type": "code",
   "execution_count": 38,
   "metadata": {},
   "outputs": [
    {
     "data": {
      "text/plain": [
       "0    4065\n",
       "1     410\n",
       "Name: target_class, dtype: int64"
      ]
     },
     "execution_count": 38,
     "metadata": {},
     "output_type": "execute_result"
    }
   ],
   "source": [
    "y_if_test.value_counts()"
   ]
  },
  {
   "cell_type": "code",
   "execution_count": 39,
   "metadata": {},
   "outputs": [
    {
     "data": {
      "text/html": [
       "<div>\n",
       "<style scoped>\n",
       "    .dataframe tbody tr th:only-of-type {\n",
       "        vertical-align: middle;\n",
       "    }\n",
       "\n",
       "    .dataframe tbody tr th {\n",
       "        vertical-align: top;\n",
       "    }\n",
       "\n",
       "    .dataframe thead th {\n",
       "        text-align: right;\n",
       "    }\n",
       "</style>\n",
       "<table border=\"1\" class=\"dataframe\">\n",
       "  <thead>\n",
       "    <tr style=\"text-align: right;\">\n",
       "      <th></th>\n",
       "      <th>Predicted Non-Pulsar</th>\n",
       "      <th>Predicted Pulsar</th>\n",
       "    </tr>\n",
       "  </thead>\n",
       "  <tbody>\n",
       "    <tr>\n",
       "      <th>Actual Non-Pulsar</th>\n",
       "      <td>4043</td>\n",
       "      <td>22</td>\n",
       "    </tr>\n",
       "    <tr>\n",
       "      <th>Actual Pulsar</th>\n",
       "      <td>68</td>\n",
       "      <td>342</td>\n",
       "    </tr>\n",
       "  </tbody>\n",
       "</table>\n",
       "</div>"
      ],
      "text/plain": [
       "                   Predicted Non-Pulsar  Predicted Pulsar\n",
       "Actual Non-Pulsar                  4043                22\n",
       "Actual Pulsar                        68               342"
      ]
     },
     "execution_count": 39,
     "metadata": {},
     "output_type": "execute_result"
    }
   ],
   "source": [
    "confusion_matrix_dataframe(y_if_test,\n",
    "                           if_test_preds,\n",
    "                           columns = [\"Predicted Non-Pulsar\", \"Predicted Pulsar\"],\n",
    "                           index   = [\"Actual Non-Pulsar\", \"Actual Pulsar\"])"
   ]
  },
  {
   "cell_type": "markdown",
   "metadata": {},
   "source": [
    "While this model has the best metrics, its confusion matrix is a little different.  It has more true positives and false positives while also having slightly more false negatives and less true negatives than the previous model."
   ]
  },
  {
   "cell_type": "markdown",
   "metadata": {},
   "source": [
    "## Evaluation"
   ]
  },
  {
   "cell_type": "code",
   "execution_count": 40,
   "metadata": {},
   "outputs": [],
   "source": [
    "# This function allows for dataframes to be displayed side-by-side\n",
    "\n",
    "def display_side_by_side(*args):\n",
    "    html_str = ''\n",
    "    for df in args:\n",
    "        html_str += df.to_html()\n",
    "    display_html(html_str.replace('table', 'table style=\"display:inline\"'), raw = True)"
   ]
  },
  {
   "cell_type": "markdown",
   "metadata": {},
   "source": [
    "### Dataframes"
   ]
  },
  {
   "cell_type": "markdown",
   "metadata": {},
   "source": [
    "We treated the ROC-AUC scores differently than the other metrics because the ROC-AUC does not measure accuracy and thus it would not make sense to compare it to the baseline accuracy."
   ]
  },
  {
   "cell_type": "code",
   "execution_count": 41,
   "metadata": {},
   "outputs": [],
   "source": [
    "# Metrics scores\n",
    "\n",
    "accuracy          = [accuracy_score(y_test, of_test_preds),\n",
    "                     accuracy_score(y_sq_test, sq_test_preds),\n",
    "                     accuracy_score(y_if_test, if_test_preds)]\n",
    "\n",
    "specificity       = [specificity(y_test, of_test_preds),\n",
    "                     specificity(y_sq_test, sq_test_preds),\n",
    "                     specificity(y_if_test, if_test_preds)]\n",
    "\n",
    "sensitivity       = [recall_score(y_test, of_test_preds),\n",
    "                     recall_score(y_sq_test, sq_test_preds),\n",
    "                     recall_score(y_if_test, if_test_preds)]\n",
    "\n",
    "rocauc_score      = [roc_auc_score(y_test, of_test_preds),\n",
    "                     roc_auc_score(y_sq_test, sq_test_preds),\n",
    "                     roc_auc_score(y_if_test, if_test_preds)]\n",
    "\n",
    "matthews_corrcoef = [matthews_corrcoef(y_test, of_test_preds),\n",
    "                     matthews_corrcoef(y_test, sq_test_preds),\n",
    "                     matthews_corrcoef(y_test, if_test_preds)]"
   ]
  },
  {
   "cell_type": "code",
   "execution_count": 42,
   "metadata": {},
   "outputs": [],
   "source": [
    "# Converting the lists into dataframes\n",
    "\n",
    "# A dataframe for the scores\n",
    "\n",
    "scores = pd.DataFrame(data    = [accuracy, specificity,\n",
    "                                 sensitivity, matthews_corrcoef],\n",
    "                      columns = [\"Original Features\", \"Squared Features\", \n",
    "                                 \"Interaction Features\"],\n",
    "                      index   = [\"Accuracy\", \"Specificity\", \n",
    "                                 \"Sensitivity\", \"Matthews Corr. Coef.\"])\n",
    "\n",
    "auc_scores = pd.DataFrame(data    = [rocauc_score],\n",
    "                          columns = [\"Original Features\", \"Squared Features\",\n",
    "                                     \"Interaction Features\"],\n",
    "                          index   = [\"AUROC Score\"])"
   ]
  },
  {
   "cell_type": "code",
   "execution_count": 43,
   "metadata": {},
   "outputs": [
    {
     "data": {
      "text/html": [
       "<table style=\"display:inline\" border=\"1\" class=\"dataframe\">\n",
       "  <thead>\n",
       "    <tr style=\"text-align: right;\">\n",
       "      <th></th>\n",
       "      <th>Accuracy</th>\n",
       "      <th>Specificity</th>\n",
       "      <th>Sensitivity</th>\n",
       "      <th>Matthews Corr. Coef.</th>\n",
       "    </tr>\n",
       "  </thead>\n",
       "  <tbody>\n",
       "    <tr>\n",
       "      <th>Original Features</th>\n",
       "      <td>0.979665</td>\n",
       "      <td>0.994834</td>\n",
       "      <td>0.829268</td>\n",
       "      <td>0.873007</td>\n",
       "    </tr>\n",
       "    <tr>\n",
       "      <th>Squared Features</th>\n",
       "      <td>0.979441</td>\n",
       "      <td>0.994342</td>\n",
       "      <td>0.831707</td>\n",
       "      <td>0.871774</td>\n",
       "    </tr>\n",
       "    <tr>\n",
       "      <th>Interaction Features</th>\n",
       "      <td>0.979888</td>\n",
       "      <td>0.994588</td>\n",
       "      <td>0.834146</td>\n",
       "      <td>0.874607</td>\n",
       "    </tr>\n",
       "  </tbody>\n",
       "</table style=\"display:inline\"><table style=\"display:inline\" border=\"1\" class=\"dataframe\">\n",
       "  <thead>\n",
       "    <tr style=\"text-align: right;\">\n",
       "      <th></th>\n",
       "      <th>AUROC Score</th>\n",
       "    </tr>\n",
       "  </thead>\n",
       "  <tbody>\n",
       "    <tr>\n",
       "      <th>Original Features</th>\n",
       "      <td>0.912051</td>\n",
       "    </tr>\n",
       "    <tr>\n",
       "      <th>Squared Features</th>\n",
       "      <td>0.913025</td>\n",
       "    </tr>\n",
       "    <tr>\n",
       "      <th>Interaction Features</th>\n",
       "      <td>0.914367</td>\n",
       "    </tr>\n",
       "  </tbody>\n",
       "</table style=\"display:inline\">"
      ]
     },
     "metadata": {},
     "output_type": "display_data"
    }
   ],
   "source": [
    "# Looking at all metric scores\n",
    "\n",
    "display_side_by_side(scores.T, auc_scores.T)"
   ]
  },
  {
   "cell_type": "markdown",
   "metadata": {},
   "source": [
    "### Best Model Selection"
   ]
  },
  {
   "cell_type": "markdown",
   "metadata": {},
   "source": [
    "We had very good results across the board, but our best model is the model with the interaction features because it has both the best metric scores and the highest ROC-AUC score."
   ]
  },
  {
   "cell_type": "markdown",
   "metadata": {},
   "source": [
    "### Plots"
   ]
  },
  {
   "cell_type": "markdown",
   "metadata": {},
   "source": [
    "#### Bar Chart"
   ]
  },
  {
   "cell_type": "code",
   "execution_count": 44,
   "metadata": {},
   "outputs": [
    {
     "data": {
      "image/png": "[encoded data removed]",
      "text/plain": [
       "<Figure size 1296x432 with 1 Axes>"
      ]
     },
     "metadata": {},
     "output_type": "display_data"
    }
   ],
   "source": [
    "graphs.barplot(df     = scores,\n",
    "               x      = scores.index,\n",
    "               y      = \"Interaction Features\",\n",
    "               title  = \"Scores For The Model With Interaction Features\",\n",
    "               label  = \"Evaluation Metric\",\n",
    "               ylabel = \"Score\",\n",
    "               ticks  = np.arange(0, 1, 0.1),\n",
    "               dim    = (18,6))"
   ]
  },
  {
   "cell_type": "markdown",
   "metadata": {},
   "source": [
    "- `Balanced Accuracy` is high because it considers the sensitivity of both classes.  It isn't surprising that it is better than the baseline because the baseline is so low.\n",
    "\n",
    "\n",
    "- `Specificity` is the highest score because the most of the data is composed of the negative class.\n",
    "\n",
    "\n",
    "- `Sensitivity` is the lowest score because so few of the data represents pulsars.\n",
    "\n",
    "\n",
    "- `F1 Score` considers both sensitivity and specificity, which is why the score isn't higher."
   ]
  },
  {
   "cell_type": "markdown",
   "metadata": {},
   "source": [
    "#### ROC Curve"
   ]
  },
  {
   "cell_type": "code",
   "execution_count": 45,
   "metadata": {},
   "outputs": [
    {
     "data": {
      "image/png": "[encoded data removed]",
      "text/plain": [
       "<Figure size 1008x576 with 1 Axes>"
      ]
     },
     "metadata": {},
     "output_type": "display_data"
    }
   ],
   "source": [
    "graphs.roc_curve(model_prob  = if_model,\n",
    "                 X_test      = X_if_test,\n",
    "                 y_test      = y_if_test,\n",
    "                 y_predicted = if_test_preds,\n",
    "                 title       = \"ROC For A Neural Network\",\n",
    "                 dim         = (14,8))"
   ]
  },
  {
   "cell_type": "markdown",
   "metadata": {},
   "source": [
    "The ROC curve is a representation of the relationship between the true positives and the false positives.\n",
    "\n",
    "The low score indicates that the model is good at predicting the two classes, which we also saw from the confusion matrices.  In an ideal world, we would have perfect 90º angle but ours is _extremely_ close to that which indicates our classes are significantly distinct."
   ]
  },
  {
   "cell_type": "markdown",
   "metadata": {},
   "source": [
    "[Top](#Table-Of-Contents)"
   ]
  }
 ],
 "metadata": {
  "kernelspec": {
   "display_name": "Python 3",
   "language": "python",
   "name": "python3"
  },
  "language_info": {
   "codemirror_mode": {
    "name": "ipython",
    "version": 3
   },
   "file_extension": ".py",
   "mimetype": "text/x-python",
   "name": "python",
   "nbconvert_exporter": "python",
   "pygments_lexer": "ipython3",
   "version": "3.6.8"
  }
 },
 "nbformat": 4,
 "nbformat_minor": 2
}
