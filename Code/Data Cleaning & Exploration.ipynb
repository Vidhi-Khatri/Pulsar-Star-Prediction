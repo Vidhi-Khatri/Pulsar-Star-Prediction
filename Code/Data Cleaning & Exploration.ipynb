{
 "cells": [
  {
   "cell_type": "markdown",
   "metadata": {},
   "source": [
    "# Part 1: Data Cleaning & Exploration"
   ]
  },
  {
   "cell_type": "markdown",
   "metadata": {},
   "source": [
    "## Imports"
   ]
  },
  {
   "cell_type": "code",
   "execution_count": null,
   "metadata": {},
   "outputs": [],
   "source": [
    "import pandas             as pd\n",
    "import numpy              as np\n",
    "import seaborn            as sns\n",
    "import matplotlib.pyplot  as plt\n",
    "from IPython.core.display import display, HTML\n",
    "display(HTML(\"<style>.container { width:95% !important; }</style>\"))\n",
    "sns.set(style = \"white\", palette = \"deep\")\n",
    "%matplotlib inline"
   ]
  },
  {
   "cell_type": "markdown",
   "metadata": {},
   "source": [
    "## Table Of Contents\n",
    "\n",
    "1. [Exploration](#Exploration)\n",
    "    - [Reading In The Data](#Reading-In-The-Data)\n",
    "    - [Overview](#Overview)\n",
    "\n",
    "\n",
    "2. [Data Cleaning](#Data-Cleaning)\n",
    "    - [Renaming Columns](#Renaming-Columns)\n",
    "\n",
    "\n",
    "3. [Visualizations](#Visualizations)\n",
    "    - [Functions](#Functions)\n",
    "    - [Histograms](#Histograms)\n",
    "    - [Box Plots](#Box-Plots)\n",
    "    - [Bar Plots](#Bar-Plots)\n",
    "    - [Heat Map](#Heat-Map)"
   ]
  },
  {
   "cell_type": "markdown",
   "metadata": {},
   "source": [
    "## Exploration"
   ]
  },
  {
   "cell_type": "markdown",
   "metadata": {},
   "source": [
    "### Reading In The Data"
   ]
  },
  {
   "cell_type": "code",
   "execution_count": null,
   "metadata": {},
   "outputs": [],
   "source": [
    "pulsar = pd.read_csv(\"../Data/pulsar_stars.csv\")"
   ]
  },
  {
   "cell_type": "markdown",
   "metadata": {},
   "source": [
    "### Overview"
   ]
  },
  {
   "cell_type": "code",
   "execution_count": null,
   "metadata": {},
   "outputs": [],
   "source": [
    "# Checking the shape of the df\n",
    "\n",
    "print(f\"The shape of the pulsar dataframe is {pulsar.shape[0]} rows by {pulsar.shape[1]} columns.\")"
   ]
  },
  {
   "cell_type": "code",
   "execution_count": null,
   "metadata": {},
   "outputs": [],
   "source": [
    "# Checking the data's head\n",
    "\n",
    "pulsar.head()"
   ]
  },
  {
   "cell_type": "code",
   "execution_count": null,
   "metadata": {},
   "outputs": [],
   "source": [
    "# Checking for null values\n",
    "\n",
    "pulsar.isnull().sum()"
   ]
  },
  {
   "cell_type": "code",
   "execution_count": null,
   "metadata": {},
   "outputs": [],
   "source": [
    "# Checking the df's info\n",
    "\n",
    "pulsar.info()"
   ]
  },
  {
   "cell_type": "code",
   "execution_count": null,
   "metadata": {},
   "outputs": [],
   "source": [
    "# Description of numeric columns\n",
    "\n",
    "pulsar.describe().T"
   ]
  },
  {
   "cell_type": "markdown",
   "metadata": {},
   "source": [
    "## Data Cleaning"
   ]
  },
  {
   "cell_type": "markdown",
   "metadata": {},
   "source": [
    "### Renaming Columns"
   ]
  },
  {
   "cell_type": "markdown",
   "metadata": {},
   "source": [
    "As we saw above, some of the columns have very long names.  To make life easier, we decided to shorten the names of the columns."
   ]
  },
  {
   "cell_type": "code",
   "execution_count": null,
   "metadata": {},
   "outputs": [],
   "source": [
    "# Renaming the columns\n",
    "\n",
    "pulsar = pulsar.rename({\" Mean of the integrated profile\": \"mean_ip\",\n",
    "                        \" Standard deviation of the integrated profile\": \"sd_ip\",\n",
    "                        \" Excess kurtosis of the integrated profile\": \"ex_kurt_ip\",\n",
    "                        \" Skewness of the integrated profile\": \"skew_ip\",\n",
    "                        \" Mean of the DM-SNR curve\": \"mean_dmsnr\",\n",
    "                        \" Standard deviation of the DM-SNR curve\": \"sd_dmsnr\",\n",
    "                        \" Excess kurtosis of the DM-SNR curve\": \"ex_kurt_dmsnr\",\n",
    "                        \" Skewness of the DM-SNR curve\": \"skew_dmsnr\",\n",
    "                        \" target_class\": \"target\"}, axis = 1)"
   ]
  },
  {
   "cell_type": "code",
   "execution_count": null,
   "metadata": {},
   "outputs": [],
   "source": [
    "pulsar.head(2)"
   ]
  },
  {
   "cell_type": "markdown",
   "metadata": {},
   "source": [
    "Now that we made changes to the dataframe, we want these changes to be available when we model.  To do that, we will save a new copy of the dataframe."
   ]
  },
  {
   "cell_type": "code",
   "execution_count": null,
   "metadata": {},
   "outputs": [],
   "source": [
    "pulsar.to_csv(\"../Data/pulsar_cleaned.csv\", index = False)"
   ]
  },
  {
   "cell_type": "markdown",
   "metadata": {},
   "source": [
    "[Top](#Table-Of-Contents)"
   ]
  },
  {
   "cell_type": "markdown",
   "metadata": {},
   "source": [
    "## Visualizations"
   ]
  },
  {
   "cell_type": "markdown",
   "metadata": {},
   "source": [
    "### Functions"
   ]
  },
  {
   "cell_type": "code",
   "execution_count": null,
   "metadata": {},
   "outputs": [],
   "source": [
    "# Plotting histograms\n",
    "\n",
    "def plot_histograms(columns, titles, labels, ticks):\n",
    "    \n",
    "    # The count determines the location of the chart within the grid\n",
    "    count = 0\n",
    "    fig   = plt.figure(figsize = (14,12))\n",
    "    \n",
    "    # Looping through each column in the list to graph\n",
    "    # enumerating allows for me to index the other lists\n",
    "    for c, column in enumerate(columns):\n",
    "        \n",
    "        # Changing the location\n",
    "        count += 1\n",
    "        ax    = fig.add_subplot(4, 2, count)\n",
    "        \n",
    "        # Plotting and setting parameters for the graph\n",
    "        plt.title(f\"Distribution Of {titles[c]}\", size = 18)\n",
    "        sns.distplot(pulsar[column], color = \"black\",\n",
    "                     kde = False)\n",
    "        plt.axvline(pulsar[column].mean(),\n",
    "                    color = \"red\")\n",
    "        plt.xlabel(f\"{labels[c]}\", size = 16)\n",
    "        plt.ylabel(\"Frequency\", size = 16)\n",
    "        plt.xticks(ticks = ticks[c], size = 14)\n",
    "        plt.yticks(size = 14)\n",
    "    plt.tight_layout()\n",
    "    plt.show();"
   ]
  },
  {
   "cell_type": "code",
   "execution_count": null,
   "metadata": {},
   "outputs": [],
   "source": [
    "# Plotting box plots\n",
    "\n",
    "def plot_boxplots(columns, titles, labels, ticks):\n",
    "    \n",
    "    # Count sets the location within the grid\n",
    "    count = 0\n",
    "    fig   = plt.figure(figsize = (14,12))\n",
    "    \n",
    "    # Looping through each column for a graph\n",
    "    # Enumerating allows me to index the other lists\n",
    "    for c, column in enumerate(columns):\n",
    "        \n",
    "        # Changing the location for the next graph\n",
    "        count += 1\n",
    "        ax    = fig.add_subplot(4, 2, count)\n",
    "        \n",
    "        # Plotting and setting parameters for the graph\n",
    "        plt.title(f\"{titles[c]}\", size = 18)\n",
    "        sns.boxplot(pulsar[column])\n",
    "        plt.xlabel(f\"{labels[c]}\", size = 16)\n",
    "        plt.xticks(ticks = ticks[c], size = 14)\n",
    "        plt.yticks(size = 14)\n",
    "    plt.tight_layout()\n",
    "    plt.show();"
   ]
  },
  {
   "cell_type": "markdown",
   "metadata": {},
   "source": [
    "### Histograms"
   ]
  },
  {
   "cell_type": "markdown",
   "metadata": {},
   "source": [
    "#### Histograms Of The Integrated Profile"
   ]
  },
  {
   "cell_type": "code",
   "execution_count": null,
   "metadata": {},
   "outputs": [],
   "source": [
    "plot_histograms(columns = [\"mean_ip\", \"sd_ip\", \"ex_kurt_ip\", \"skew_ip\"],\n",
    "                titles  = [\"IP: Mean\", \"IP: Standard Dev.\", \n",
    "                           \"IP: Excess Kurtosis\", \"IP: Skew\"],\n",
    "                labels  = [\"Mean\", \"Standard Deviation\", \"Kurtosis\", \"Skew\"],\n",
    "                ticks   = [np.arange(0,200,25), np.arange(20,100,15),\n",
    "                           np.arange(-2,9,1), np.arange(-5,70,10)])"
   ]
  },
  {
   "cell_type": "markdown",
   "metadata": {},
   "source": [
    "The distributions of the `mean` and `standard deviation` are almost normally distributed, which will be something we manipulate in feature engineering: they will be more normal if we square them.  `mean` also has a very long left tail which makes the normal distribution less perfect; `skew` is also left-tailed.\n",
    "\n",
    "The distribution of `excess kurtosis` looks normal, but most of the values are between -1 and 1.  If we square the values they will almost entirely fall between 0 and 1 which will drastically change the distribution.\n",
    "\n",
    "`skew_ip` also has very low values and squaring them drastically changes the distribution"
   ]
  },
  {
   "cell_type": "markdown",
   "metadata": {},
   "source": [
    "#### Histograms Of The DM-SNR Curve"
   ]
  },
  {
   "cell_type": "code",
   "execution_count": null,
   "metadata": {},
   "outputs": [],
   "source": [
    "plot_histograms(columns = [\"mean_dmsnr\", \"sd_dmsnr\", \"ex_kurt_dmsnr\", \"skew_dmsnr\"],\n",
    "                titles  = [\"DMNSR: Mean\", \"DMNSR: Standard Dev.\", \n",
    "                           \"DMNSR: Excess Kurtosis\", \"DMNSR: Skew\"],\n",
    "                labels  = [\"Mean\", \"Standard Deviation\", \"Kurtosis\", \"Skew\"],\n",
    "                ticks   = [np.arange(0,250,25), np.arange(0,110, 10),\n",
    "                           np.arange(-5,40,5), np.arange(-5,1200, 155)])"
   ]
  },
  {
   "cell_type": "markdown",
   "metadata": {},
   "source": [
    "Some of the distributions look like they are log-normal, but when we tried taking the (natural) log of the distributions we did not get a normal distribution.\n",
    "\n",
    "\n",
    "`mean` looks like it could be log-normal, but its long right tail prevents it from having a nice normal distribution, which is the goal of taking the log of the values.\n",
    "\n",
    "\n",
    "`standard deviation` has a very long right tail which will be obvious in its box plot.\n",
    "\n",
    "\n",
    "`excess kurtosis` almost looks normally distributed, but the left side of the chart is irregular."
   ]
  },
  {
   "cell_type": "markdown",
   "metadata": {},
   "source": [
    "[Top](#Table-Of-Contents)"
   ]
  },
  {
   "cell_type": "markdown",
   "metadata": {},
   "source": [
    "### Box Plots"
   ]
  },
  {
   "cell_type": "markdown",
   "metadata": {},
   "source": [
    "#### Box Plots Of The Integrated Profile"
   ]
  },
  {
   "cell_type": "code",
   "execution_count": null,
   "metadata": {},
   "outputs": [],
   "source": [
    "plot_boxplots(columns = [\"mean_ip\", \"sd_ip\", \"ex_kurt_ip\", \"skew_ip\"],\n",
    "              titles  = [\"IP: Mean\", \"IP: Standard Dev.\", \n",
    "                         \"IP: Excess Kurtosis\", \"IP: Skew\"],\n",
    "              labels  = [\"Mean\", \"Standard Deviation\", \"Kurtosis\", \"Skew\"],\n",
    "              ticks   = [np.arange(0,200,25), np.arange(20,100,15),\n",
    "                           np.arange(-2,9,1), np.arange(-5,70,10)])"
   ]
  },
  {
   "cell_type": "markdown",
   "metadata": {},
   "source": [
    "The most notable part of these graphs is the sheer number of outliers, especially with the `excess kurtosis` and `skew`.\n",
    "\n",
    "\n",
    "It is also clear that we will have to scale the data before modeling because the scales are different for all four graphs."
   ]
  },
  {
   "cell_type": "code",
   "execution_count": null,
   "metadata": {},
   "outputs": [],
   "source": [
    "plot_boxplots(columns = [\"mean_dmsnr\", \"sd_dmsnr\", \"ex_kurt_dmsnr\", \"skew_dmsnr\"],\n",
    "              titles  = [\"DMNSR: Mean\", \"DMNSR: Standard Dev.\", \n",
    "                         \"DMNSR: Excess Kurtosis\", \"DMNSR: Skew\"],\n",
    "              labels  = [\"Mean\", \"Standard Deviation\", \"Kurtosis\", \"Skew\"],\n",
    "              ticks   = [np.arange(0,250,25), np.arange(0,110, 10),\n",
    "                         np.arange(-5,40,5), np.arange(-5,1200, 155)])"
   ]
  },
  {
   "cell_type": "markdown",
   "metadata": {},
   "source": [
    "Similarly to the graphs above, there are an extreme amount of outliers, especially for the `mean` and `standard deviation`.\n",
    "\n",
    "\n",
    "It is also evident here that we will have to scale the data."
   ]
  },
  {
   "cell_type": "markdown",
   "metadata": {},
   "source": [
    "### Bar Plots"
   ]
  },
  {
   "cell_type": "markdown",
   "metadata": {},
   "source": [
    "The only column that can be plotted with a bar plot is the target column.  I will plot it again later to determine my baseline accuracy when modeling."
   ]
  },
  {
   "cell_type": "code",
   "execution_count": null,
   "metadata": {},
   "outputs": [],
   "source": [
    "pulsar.columns"
   ]
  },
  {
   "cell_type": "code",
   "execution_count": null,
   "metadata": {},
   "outputs": [],
   "source": [
    "tick_labels = [\"Non-Pulsar\", \"Pulsar\"]\n",
    "\n",
    "plt.figure(figsize = (10,5))\n",
    "sns.countplot(pulsar[\"target_class\"])\n",
    "plt.title(\"Pulsar Stars\", size = 18)\n",
    "plt.xlabel(\"Category\", size = 16)\n",
    "plt.ylabel(\"Number Of Stars\", size = 16)\n",
    "plt.xticks(np.arange(0,2,1), \n",
    "           labels = tick_labels, \n",
    "           size = 14)\n",
    "plt.yticks(size = 14);"
   ]
  },
  {
   "cell_type": "markdown",
   "metadata": {},
   "source": [
    "The data is extremely unbalanced, which we will have to deal with when modeling and wil inform our choice of models."
   ]
  },
  {
   "cell_type": "markdown",
   "metadata": {},
   "source": [
    "### Heat Map"
   ]
  },
  {
   "cell_type": "code",
   "execution_count": null,
   "metadata": {},
   "outputs": [],
   "source": [
    "columns = pulsar.columns[:8]\n",
    "\n",
    "plt.figure(figsize   = (16,8),\n",
    "           facecolor = \"white\")\n",
    "plt.title(\"Correlations Amongst Features\", size = 18)\n",
    "corr = pulsar[columns].corr()\n",
    "mask = np.zeros_like(corr)                                                                                \n",
    "mask[np.triu_indices_from(mask)] = True\n",
    "with sns.axes_style(\"white\"):\n",
    "    sns.heatmap(corr, cmap = \"RdBu\", mask = mask,\n",
    "                vmin = -1, vmax = 1, annot = True)\n",
    "plt.xticks(size = 14)\n",
    "plt.yticks(size = 14);"
   ]
  },
  {
   "cell_type": "markdown",
   "metadata": {},
   "source": [
    "One of the most notable features of this heat map is that there are four distinct blocks of correlation:\n",
    "\n",
    "- `mean_ip` and `sd_ip` with `ex_kurt_ip` and `skew_ip`\n",
    "\n",
    "\n",
    "- `ex_kurt_ip` and `skew_ip` with `mean_dmsnr` and `sd_dmsnr`\n",
    "\n",
    "\n",
    "- `mean_dmsnr` and `sd_dmsnr` with `ex_kurt_dmsnr` and `skew_dmsnr`\n",
    "\n",
    "\n",
    "- `ex_kurt_ip` and `skew_ip` with `ex_kurt_dmsnr` and `skew_dmsnr`\n",
    "\n",
    "\n",
    "We will use some of these correlations in feature engineering to create interaction columns."
   ]
  },
  {
   "cell_type": "markdown",
   "metadata": {},
   "source": [
    "## Reading In The Data"
   ]
  },
  {
   "cell_type": "markdown",
   "metadata": {},
   "source": [
    "[Top](#Table-Of-Contents)"
   ]
  }
 ],
 "metadata": {
  "kernelspec": {
   "display_name": "Python 3",
   "language": "python",
   "name": "python3"
  },
  "language_info": {
   "codemirror_mode": {
    "name": "ipython",
    "version": 3
   },
   "file_extension": ".py",
   "mimetype": "text/x-python",
   "name": "python",
   "nbconvert_exporter": "python",
   "pygments_lexer": "ipython3",
   "version": "3.6.8"
  }
 },
 "nbformat": 4,
 "nbformat_minor": 2
}
